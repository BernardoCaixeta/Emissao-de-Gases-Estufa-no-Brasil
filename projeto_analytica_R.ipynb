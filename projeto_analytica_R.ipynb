{
 "cells": [
  {
   "cell_type": "code",
   "execution_count": 7,
   "metadata": {},
   "outputs": [],
   "source": [
    "library(prophet)\n",
    "library(basedosdados, quietly = True)"
   ]
  },
  {
   "cell_type": "code",
   "execution_count": 9,
   "metadata": {},
   "outputs": [],
   "source": [
    "suppressMessages(set_billing_id('projeto-analytics-314021'))\n",
    "suppressMessages(query <- \"SELECT * FROM `basedosdados.br_seeg_emissoes.brasil`\")\n",
    "df <- read_sql(query)"
   ]
  },
  {
   "cell_type": "code",
   "execution_count": 22,
   "metadata": {},
   "outputs": [
    {
     "data": {
      "text/html": [
       "<ol>\n",
       "\t<li>'Agropecuária'</li>\n",
       "\t<li>'Energia'</li>\n",
       "\t<li>'Mudança de Uso da Terra e Floresta'</li>\n",
       "\t<li>'Processos Industriais'</li>\n",
       "\t<li>'Resíduos '</li>\n",
       "</ol>\n"
      ],
      "text/latex": [
       "\\begin{enumerate}\n",
       "\\item 'Agropecuária'\n",
       "\\item 'Energia'\n",
       "\\item 'Mudança de Uso da Terra e Floresta'\n",
       "\\item 'Processos Industriais'\n",
       "\\item 'Resíduos '\n",
       "\\end{enumerate}\n"
      ],
      "text/markdown": [
       "1. 'Agropecuária'\n",
       "2. 'Energia'\n",
       "3. 'Mudança de Uso da Terra e Floresta'\n",
       "4. 'Processos Industriais'\n",
       "5. 'Resíduos '\n",
       "\n",
       "\n"
      ],
      "text/plain": [
       "[[1]]\n",
       "[1] \"Agropecuária\"\n",
       "\n",
       "[[2]]\n",
       "[1] \"Energia\"\n",
       "\n",
       "[[3]]\n",
       "[1] \"Mudança de Uso da Terra e Floresta\"\n",
       "\n",
       "[[4]]\n",
       "[1] \"Processos Industriais\"\n",
       "\n",
       "[[5]]\n",
       "[1] \"Resíduos \"\n"
      ]
     },
     "metadata": {},
     "output_type": "display_data"
    }
   ],
   "source": [
    "anos <- as.data.frame(df[1])\n",
    "nivel_1 <- list()\n",
    "\n",
    "contador = 1\n",
    "for(i in 1:454850){\n",
    "    if (!df['nivel_1'][i,] %in% nivel_1) {\n",
    "        nivel_1[contador] <- df['nivel_1'][i,]\n",
    "        contador <- contador + 1\n",
    "    }\n",
    "  }\n",
    "\n",
    "nivel_1\n",
    "ds <- seq(as.Date(\"1970/1/1\"), as.Date(\"2019/1/1\"), by = \"year\")"
   ]
  },
  {
   "cell_type": "code",
   "execution_count": 27,
   "metadata": {},
   "outputs": [
    {
     "data": {
      "image/png": "[encoded data removed]",
      "text/plain": [
       "plot without title"
      ]
     },
     "metadata": {
      "image/png": {
       "height": 420,
       "width": 420
      }
     },
     "output_type": "display_data"
    }
   ],
   "source": [
    "## Agropecuária\n",
    "\n",
    "emissoes <- as.list(rep(0, 50))\n",
    "agropecuaria <- data.frame(ds) \n",
    "\n",
    "for(i in 1:454850){\n",
    "    if(df['nivel_1'][i,] == 'Agropecuária' && !apply(df['emissao'][i,], 1, is.na)) {\n",
    "      indice = match(toString(anos[i,]), format(agropecuaria['ds'][,1], format = \"%Y\"))\n",
    "      emissoes[indice] <- emissoes[indice] + df['emissao'][i,]\n",
    "  }\n",
    "}\n",
    "agropecuaria$y <- emissoes\n",
    "\n",
    "m <- prophet(agropecuaria, changepoint.prior.scale = 0.1 , daily.seasonality = F, weekly.seasonality = F, interval.width = 0.2, seasonality.mode = \"multiplicative\")\n",
    "future <- make_future_dataframe(m, periods = 5, freq = 'year')\n",
    "predicao <- predict(m, future)\n",
    "plot(m, predicao, ylab = \"Quantidade de Gases Emitidos\", xlab = \"\")"
   ]
  },
  {
   "cell_type": "code",
   "execution_count": null,
   "metadata": {},
   "outputs": [],
   "source": []
  },
  {
   "cell_type": "code",
   "execution_count": null,
   "metadata": {},
   "outputs": [],
   "source": []
  },
  {
   "cell_type": "code",
   "execution_count": null,
   "metadata": {},
   "outputs": [],
   "source": []
  },
  {
   "cell_type": "code",
   "execution_count": null,
   "metadata": {},
   "outputs": [],
   "source": []
  }
 ],
 "metadata": {
  "kernelspec": {
   "display_name": "R",
   "language": "R",
   "name": "ir"
  },
  "language_info": {
   "codemirror_mode": "r",
   "file_extension": ".r",
   "mimetype": "text/x-r-source",
   "name": "R",
   "pygments_lexer": "r",
   "version": "4.1.0"
  }
 },
 "nbformat": 4,
 "nbformat_minor": 2
}
